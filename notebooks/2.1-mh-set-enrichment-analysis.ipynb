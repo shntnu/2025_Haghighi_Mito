{
 "cells": [
  {
   "cell_type": "code",
   "execution_count": 33,
   "id": "0a3a1ed9",
   "metadata": {},
   "outputs": [],
   "source": [
    "import blitzgsea as blitz\n",
    "import urllib.request\n",
    "import pandas as pd\n",
    "import matplotlib.pyplot as plt\n",
    "import seaborn as sns\n",
    "# import mygene"
   ]
  },
  {
   "cell_type": "code",
   "execution_count": 5,
   "id": "555e4102",
   "metadata": {},
   "outputs": [],
   "source": [
    "# import tsquared\n",
    "# import hotelling"
   ]
  },
  {
   "cell_type": "code",
   "execution_count": 332,
   "id": "fc696cc8",
   "metadata": {},
   "outputs": [],
   "source": [
    "# 'STAG1', 'ASH1L', 'ZMYM2', 'KDM6B', 'SRRM2', 'HIST1H1E'"
   ]
  },
  {
   "cell_type": "code",
   "execution_count": 2,
   "id": "399311f6",
   "metadata": {},
   "outputs": [],
   "source": [
    "# home_path=\"/home/ubuntu/\" # ec2\n",
    "home_path=\"/home/jupyter-mhaghigh@broadinst-ee45a/\" #dgx\n",
    "mito_project_root_dir=home_path+\"bucket/projects/2016_08_01_RadialMitochondriaDistribution_donna/\""
   ]
  },
  {
   "cell_type": "code",
   "execution_count": 3,
   "id": "4e19988b",
   "metadata": {},
   "outputs": [],
   "source": [
    "import numpy as np\n",
    "# import scienceplots\n",
    "# plt.style.use(['science','no-latex'])\n",
    "def top_table_custom(signature, library, result, set_label='Set', n=10):\n",
    "    alpha_rank_lines=0.6 #default 0.3\n",
    "    sig = signature.sort_values(1, ascending=False).set_index(0)\n",
    "    sig = sig[~sig.index.duplicated(keep='first')]\n",
    "\n",
    "    plt.ioff()\n",
    "    fig = plt.figure(figsize=(5,0.5*n), frameon=False)\n",
    "    ax = fig.add_subplot(111)\n",
    "    fig.patch.set_visible(False)\n",
    "    plt.axis('off')\n",
    "\n",
    "#     ax.vlines(x=[-0.2,0,0.2,0.8], ymin=-0.1, ymax=1, color=\"black\")\n",
    "    ax.vlines(x=[0,0.2,0.8], ymin=-0.1, ymax=1, color=\"black\")\n",
    "    ln = np.linspace(-0.1,1,n+1)[::-1]\n",
    "    ax.hlines(y=ln, xmin=-0.2, xmax=1, color=\"black\")\n",
    "\n",
    "    ax.text(-.2+0.03, 1.03, \"FDR\", fontsize=12)\n",
    "    ax.text(0.03, 1.03, \"NES\", fontsize=12)\n",
    "    ax.text(0.84, 1.03, set_label, fontsize=12)\n",
    "\n",
    "    for i in range(n):\n",
    "        ax.text(-.2+0.03, (ln[i]+ln[i+1])/2, \"{:.3f}\".format(result.iloc[i, 4]), verticalalignment='center')\n",
    "        ax.text(0.03, (ln[i]+ln[i+1])/2, \"{:.3f}\".format(result.iloc[i, 1]), verticalalignment='center')\n",
    "        ax.text(0.84, (ln[i]+ln[i+1])/2, result.index[i], verticalalignment='center')\n",
    "        \n",
    "        gs = set(library[result.index[i]])\n",
    "        hits = np.array([i for i,x in enumerate(sig.index) if x in gs])\n",
    "        hits = (hits/len(sig.index))*0.6+0.2\n",
    "        \n",
    "        if result.iloc[i, 1] > 0:\n",
    "            ax.vlines(hits, ymax=ln[i], ymin=ln[i+1], color=\"red\", lw=0.5, alpha=alpha_rank_lines)\n",
    "        else:\n",
    "            ax.vlines(hits, ymax=ln[i], ymin=ln[i+1], color=\"blue\", lw=0.5, alpha=alpha_rank_lines)\n",
    "    fig.patch.set_facecolor('white')\n",
    "    plt.ion()\n",
    "    return fig\n",
    "\n",
    "\n",
    "# p_val_orth_col=\"p_orth_std\";#p_orth_std\n",
    "orth_bh_corrected_critical_dict=\\\n",
    "        {'taorf': 0.0328682154922577,\n",
    "         'lincs': 0.0482929972989429,\n",
    "         'CDRP': 0.0481242427803521,\n",
    "         'jump_orf': 0.0375156321477045,\n",
    "         'jump_crispr': 0.0478530069113243,\n",
    "         'jump_compound': 0.0474630677339327};\n",
    "\n",
    "\n",
    "\n",
    "datasets_info_dict={'taorf':{'key_col':'Metadata_gene_name',\\\n",
    "                            'key_sample_id_col':'Metadata_broad_sample'},\\\n",
    "                    'jump_orf':{'key_col':'Metadata_Symbol',\\\n",
    "                               'key_sample_id_col':'Metadata_broad_sample'},\\\n",
    "                    'jump_crispr':{'key_col':'Metadata_Symbol',\\\n",
    "                                  'key_sample_id_col':'Metadata_JCP2022'},\\\n",
    "                    'jump_compound':{'key_col':'Metadata_Symbol',\\\n",
    "                                  'key_col_ref_set':'Metadata_JCP2022'},\\\n",
    "                    'lincs':{'key_col':'Metadata_pert_name',\\\n",
    "                            'key_col_ref_set':'Metadata_pert_id_dose'},\\\n",
    "                    'CDRP':{'key_col':'Metadata_pert_id',\\\n",
    "                            'key_col_ref_set':'Metadata_Sample_Dose'},\\\n",
    "                   }\n",
    "\n",
    "# Metadata_Sample_Dose\n",
    "# key_col_ref_set='Metadata_Sample_Dose'\n",
    "# Metadata_pert_name_lowercase, Metadata_pert_id_dose"
   ]
  },
  {
   "cell_type": "code",
   "execution_count": null,
   "id": "1ac21e9a",
   "metadata": {},
   "outputs": [],
   "source": []
  },
  {
   "cell_type": "code",
   "execution_count": null,
   "id": "c75daeee",
   "metadata": {},
   "outputs": [],
   "source": []
  },
  {
   "cell_type": "markdown",
   "id": "1cac744f",
   "metadata": {
    "heading_collapsed": true
   },
   "source": [
    "## Set Enrichment Analysis was done using blitzGSEA package \n",
    "- https://github.com/MaayanLab/blitzgsea"
   ]
  },
  {
   "cell_type": "code",
   "execution_count": 48,
   "id": "dd7ae9fc",
   "metadata": {
    "hidden": true
   },
   "outputs": [],
   "source": [
    "# ls ~/bucket/projects/2016_08_01_RadialMitochondriaDistribution_donna/workspace/results/virtual_screen"
   ]
  },
  {
   "cell_type": "markdown",
   "id": "4e3956d0",
   "metadata": {
    "heading_collapsed": true,
    "tags": []
   },
   "source": [
    "## GO - ORF datasets"
   ]
  },
  {
   "cell_type": "code",
   "execution_count": 32,
   "id": "c00454f3",
   "metadata": {
    "hidden": true,
    "tags": []
   },
   "outputs": [
    {
     "data": {
      "image/png": "[encoded data removed]",
      "text/plain": [
       "<Figure size 500x300 with 1 Axes>"
      ]
     },
     "metadata": {},
     "output_type": "display_data"
    },
    {
     "name": "stdout",
     "output_type": "stream",
     "text": [
      " *  jump_crispr : Out of  1748 Proteomics_Drug_Atlas_2023  categories,  6  are enriched.\n"
     ]
    }
   ],
   "source": [
    "fName='d_slope'\n",
    "\n",
    "write_res_path=mito_project_root_dir+'workspace/results/virtual_screen/'\n",
    "\n",
    "\n",
    "cell_count_filter_enabled=True\n",
    "orth_filter_enabled=False\n",
    "\n",
    "\n",
    "database_ls=[\"OMIM_Expanded\",\"OMIM_Disease\",\\\n",
    "             \"GO_Biological_Process_2023\",\\\n",
    "             \"GO_Molecular_Function_2023\",\\\n",
    "             \"GO_Cellular_Component_2023\",\\\n",
    "             \"Human_Phenotype_Ontology\",\"MGI_Mammalian_Phenotype_Level_4_2021\",\\\n",
    "             \"KEGG_2021_Human\",\"WikiPathway_2021_Human\",\"PFOCR_Pathways_2023\",\\\n",
    "             \"Proteomics_Drug_Atlas_2023\",\\\n",
    "            \"GWAS_Catalog_2023\"]\n",
    "\n",
    "plt.close('all')\n",
    "for dataset in ['jump_crispr']:#['taorf','jump_orf','jump_crispr']:\n",
    "\n",
    "    key_col=datasets_info_dict[dataset]['key_col'];\n",
    "    res_df_jumporf0 = pd.read_csv(write_res_path+dataset+'_results_pattern_aug_070624.csv')\n",
    "    # res_df_jumporf0['t_target_pattern_signed']=np.sign(res_df_jumporf0['t_slope'])*res_df_jumporf0['t_target_pattern']\n",
    "    res_df_jumporf0 = res_df_jumporf0[~(res_df_jumporf0[key_col].isnull())& ~(res_df_jumporf0[fName].isnull())].reset_index(drop=True)\n",
    "    res_df_jumporf = res_df_jumporf0.groupby(key_col).median(numeric_only=True).reset_index()\n",
    "\n",
    "\n",
    "\n",
    "    # print(res_df_jumporf.shape)\n",
    "    if cell_count_filter_enabled:\n",
    "        res_df_jumporf=res_df_jumporf[res_df_jumporf['Count_Cells_avg']>res_df_jumporf['Count_Cells_avg'].quantile(.1)].\\\n",
    "        reset_index(drop=True)\n",
    "\n",
    "    if orth_filter_enabled:\n",
    "        res_df_jumporf=res_df_jumporf[res_df_jumporf['p_orth_std']>orth_bh_corrected_critical_dict[dataset]].\\\n",
    "        reset_index(drop=True)\n",
    "    # print(res_df_jumporf.shape)\n",
    "\n",
    "\n",
    "    sig_df=res_df_jumporf[[key_col,fName]].\\\n",
    "    rename(columns={key_col:0,fName:1}).\\\n",
    "                sort_values(by=1).reset_index(drop=True)\n",
    "\n",
    "    \n",
    "    for database_str in database_ls:\n",
    "        library = blitz.enrichr.get_library(database_str)\n",
    "#         sig_df[1]=sig_df[1]/10\n",
    "        result_orf = blitz.gsea(sig_df, library, min_size=4, seed=1)\n",
    "\n",
    "        top_res_df=result_orf[result_orf['fdr']<0.05]\n",
    "        if len(top_res_df)>0:\n",
    "            # fig_table = top_table_custom(sig_df, library, top_res_df,set_label=\"Gene Set: \"+database_str, n=top_res_df.shape[0])\n",
    "            fig_table = top_table_custom(sig_df, library, top_res_df,set_label=\"Gene Set \", n=top_res_df.shape[0])\n",
    "            plt.show()\n",
    "        #     fig_table.savefig(\"top_10_\"+dataset+\"_\"+database_str+\".png\", bbox_inches='tight')\n",
    "        if top_res_df.shape[0]>0:\n",
    "            print(' * ',dataset,': Out of ',result_orf.shape[0],database_str,' categories, ',top_res_df.shape[0],' are enriched.')\n",
    "            # print(top_res_df[['nes','fdr','leading_edge']].to_markdown())\n",
    "#             fig_table = top_table_custom(sig_df, library, result_orf,set_label=\"Gene Set\", n=top_res_df.shape[0])\n",
    "    # fig_table.savefig(dataset+\"_top_table.png\", bbox_inches='tight')\n",
    "#             plt.show()\n",
    "#         result_orf.head(10)\n",
    "\n",
    "        "
   ]
  },
  {
   "cell_type": "code",
   "execution_count": 35,
   "id": "0baed9b2-8044-49b8-9dca-6bc5fcff531a",
   "metadata": {},
   "outputs": [],
   "source": [
    "# top_res_df"
   ]
  },
  {
   "cell_type": "code",
   "execution_count": 47,
   "id": "be9f2307",
   "metadata": {
    "hidden": true
   },
   "outputs": [],
   "source": [
    "# # res_df_jumporf0 = pd.read_csv(write_res_path+dataset+'_results_pattern_1.csv')\n",
    "# res_df_jumporf0=pd.read_csv(write_res_path+dataset+'_results_pattern_aug_070624.csv')\n",
    "# res_df_jumporf0.groupby(key_col).median().reset_index()"
   ]
  },
  {
   "cell_type": "markdown",
   "id": "bf13484f",
   "metadata": {
    "heading_collapsed": true,
    "tags": []
   },
   "source": [
    "## Table 3 Genes"
   ]
  },
  {
   "cell_type": "code",
   "execution_count": 13,
   "id": "3f20cfcf",
   "metadata": {
    "hidden": true
   },
   "outputs": [
    {
     "name": "stdout",
     "output_type": "stream",
     "text": [
      "| Term                    |       es |      nes |     pval |    sidak |     fdr |   geneset_size |\n",
      "|:------------------------|---------:|---------:|---------:|---------:|--------:|---------------:|\n",
      "| Mitochondrial transport | 0.411155 | 0.69583  | 0.486535 | 0.736354 | 0.80508 |             13 |\n",
      "| Mitochondrial dynamics  | 0.240889 | 0.246778 | 0.80508  | 0.962006 | 0.80508 |             50 |\n"
     ]
    },
    {
     "data": {
      "image/png": "[encoded data removed]",
      "text/plain": [
       "<Figure size 500x100 with 1 Axes>"
      ]
     },
     "metadata": {},
     "output_type": "display_data"
    },
    {
     "name": "stdout",
     "output_type": "stream",
     "text": [
      "| Term                    |        es |      nes |      pval |     sidak |       fdr |   geneset_size |\n",
      "|:------------------------|----------:|---------:|----------:|----------:|----------:|---------------:|\n",
      "| Mitochondrial dynamics  | -0.481325 | -2.42245 | 0.0154165 | 0.0305952 | 0.0308329 |             28 |\n",
      "| Mitochondrial transport | -0.537558 | -1.41864 | 0.156005  | 0.287672  | 0.156005  |             11 |\n"
     ]
    },
    {
     "data": {
      "image/png": "[encoded data removed]",
      "text/plain": [
       "<Figure size 500x100 with 1 Axes>"
      ]
     },
     "metadata": {},
     "output_type": "display_data"
    }
   ],
   "source": [
    "fName='d_slope'\n",
    "write_res_path=mito_project_root_dir+'workspace/results/virtual_screen/'\n",
    "\n",
    "\n",
    "cell_count_filter_enabled=False\n",
    "orth_filter_enabled=False\n",
    "\n",
    "# ------------------------------\n",
    "\n",
    "# Fusion Fission Transport Mitophagy\n",
    "Fusion_ls=['AFG3L2','BAK1','BAX','BNIP3','CHCHD3','DNM1L','FIS1','GDAP1','MFF','MFN1','MFN2','MIEF1','MIEF2','MUL1',\\\n",
    "'OMA1','OPA1','PLD6','PRKN','STOML2','USP30']\n",
    "Fission_ls=['BNIP3','COX10','DHODH','DNM1L','DNM2','DNM3','FIS1','GDAP1',\\\n",
    "'LRRK2','MARCH5','MFF','MIEF1','MIEF2','MTFP1','MTFR1','MTFR1L','MTFR2','MUL1','MYO19','OPA1','PINK1',\\\n",
    "'PRKN','SLC25A46']\n",
    "Transport_ls=['CLUH','DNM1L','KIF1B','LRPPRC','LRRK2','MAIP1','MAP1S','MFN1','MFN2','MGARP','MST01',\\\n",
    "'MUL1','OPA1','RHOT1','RHOT2','SYNJ2BP','TRAK1','TRAK2','UBB']\n",
    "Mitophagy_ls=['ATPIF1','BNIP3','BNIP3L','CISD2','DNM1L',\\\n",
    " 'FIS1','FUNDC1','FUNDC2','HK2','HTRA2','MFN2','MUL1','PARK7','PINK1','SQSTM1','TOMM7','TSPO','VDAC1']\n",
    "\n",
    "\n",
    "table3_list=['AFG3L2','BAK1','BAX','BNIP3','CHCHD3','DNM1L','FIS1','GDAP1','MFF','MFN1','MFN2','MIEF1','MIEF2','MUL1',\\\n",
    "'OMA1','OPA1','PLD6','PRKN','STOML2','USP30','BNIP3','COX10','DHODH','DNM1L','DNM2','DNM3','FIS1','GDAP1',\\\n",
    "'LRRK2','MARCH5','MFF','MIEF1','MIEF2','MTFP1','MTFR1','MTFR1L','MTFR2','MUL1','MYO19','OPA1','PINK1',\\\n",
    "'PRKN','SLC25A46','CLUH','DNM1L','KIF1B','LRPPRC','LRRK2','MAIP1','MAP1S','MFN1','MFN2','MGARP','MST01',\\\n",
    "'MUL1','OPA1','RHOT1','RHOT2','SYNJ2BP','TRAK1','TRAK2','UBB','ATPIF1','BNIP3','BNIP3L','CISD2','DNM1L',\\\n",
    " 'FIS1','FUNDC1','FUNDC2','HK2','HTRA2','MFN2','MUL1','PARK7','PINK1','SQSTM1','TOMM7','TSPO','VDAC1']\n",
    "# library_table3={'Table3genes':list(set(table3_list)),'Fusion':Fusion_ls,'Fission':Fission_ls,\\\n",
    "#                 'Transport':Transport_ls,'Mitophagy':Mitophagy_ls}\n",
    "\n",
    "# key_sample_id_col='Metadata_broad_sample'\n",
    "plt.close('all')\n",
    "for dataset in ['jump_orf','jump_crispr']:\n",
    "\n",
    "    key_col=datasets_info_dict[dataset]['key_col'];\n",
    "#     key_sample_id_col=datasets_info_dict[dataset]['key_sample_id_col'];\n",
    "    key_sample_id_col =datasets_info_dict[dataset]['key_sample_id_col'];\n",
    "\n",
    "    \n",
    "    res_df_jumporf0 = pd.read_csv(write_res_path+dataset+'_results_pattern_aug_070624.csv')\n",
    "    res_df_jumporf0['t_target_pattern_signed']=np.sign(res_df_jumporf0['t_slope'])*res_df_jumporf0['t_target_pattern']\n",
    "    res_df_jumporf0 = res_df_jumporf0[~(res_df_jumporf0[key_col].isnull())& ~(res_df_jumporf0[fName].isnull())].reset_index(drop=True)\n",
    "#     res_df_jumporf = res_df_jumporf0.groupby(key_col).median(numeric_only=True).reset_index()\n",
    "\n",
    "    # Define the aggregation dictionary\n",
    "    agg_dict = {col: 'median' if pd.api.types.is_numeric_dtype(res_df_jumporf0[col]) else\\\n",
    "                'first' for col in res_df_jumporf0.columns if col != key_sample_id_col}\n",
    "\n",
    "    # Group by key_sample_id_col and aggregate\n",
    "    res_df_jumporf = res_df_jumporf0.groupby(key_sample_id_col).agg(agg_dict).reset_index()\n",
    "\n",
    "\n",
    "\n",
    "    Transport_ls_brd=res_df_jumporf.loc[res_df_jumporf[key_col].isin(Transport_ls),\\\n",
    "                                                key_sample_id_col].unique().tolist()\n",
    "\n",
    "    table3_ls_brd=res_df_jumporf.loc[res_df_jumporf[key_col].isin(table3_list),\\\n",
    "                                                key_sample_id_col].unique().tolist()\n",
    "\n",
    "\n",
    "    # library_table3={'Table3genes':list(set(table3_list)),'Transport':Transport_ls}\n",
    "    # library_table3={'Table3genes':list(set(table3_list)),'Transport':Transport_ls}\n",
    "    library_table3={'Mitochondrial dynamics':list(set(table3_ls_brd)),'Mitochondrial transport':Transport_ls_brd}\n",
    "\n",
    "\n",
    "    # print(res_df_jumporf.shape)\n",
    "    if cell_count_filter_enabled:\n",
    "        res_df_jumporf=res_df_jumporf[res_df_jumporf['Count_Cells_avg']>res_df_jumporf['Count_Cells_avg'].quantile(.1)].\\\n",
    "        reset_index(drop=True)\n",
    "\n",
    "    if orth_filter_enabled:\n",
    "        res_df_jumporf=res_df_jumporf[res_df_jumporf['p_orth_std']>orth_bh_corrected_critical_dict[dataset]].\\\n",
    "        reset_index(drop=True)\n",
    "    # print(res_df_jumporf.shape)\n",
    "\n",
    "\n",
    "    sig_df=res_df_jumporf[[key_sample_id_col,fName]].\\\n",
    "    rename(columns={key_sample_id_col:0,fName:1}).\\\n",
    "                sort_values(by=1).reset_index(drop=True)\n",
    "\n",
    "    \n",
    "    result_table3set = blitz.gsea(sig_df, library_table3, seed=1)\n",
    "    \n",
    "    print(result_table3set[['es','nes','pval','sidak','fdr','geneset_size']].to_markdown(index=True))\n",
    "    \n",
    "    fig_table = top_table_custom(sig_df, library_table3, result_table3set.sort_values(by='Term'),set_label=\"Gene Set\", n=2)\n",
    "    # fig_table.savefig(dataset+\"_top_table.png\", bbox_inches='tight')\n",
    "    plt.show()\n",
    "    result_table3set\n",
    "\n",
    "        "
   ]
  },
  {
   "cell_type": "code",
   "execution_count": 12,
   "id": "85ca1e3a-84ec-4a14-8792-b46560f5cbbf",
   "metadata": {},
   "outputs": [
    {
     "data": {
      "text/html": [
       "<div>\n",
       "<style scoped>\n",
       "    .dataframe tbody tr th:only-of-type {\n",
       "        vertical-align: middle;\n",
       "    }\n",
       "\n",
       "    .dataframe tbody tr th {\n",
       "        vertical-align: top;\n",
       "    }\n",
       "\n",
       "    .dataframe thead th {\n",
       "        text-align: right;\n",
       "    }\n",
       "</style>\n",
       "<table border=\"1\" class=\"dataframe\">\n",
       "  <thead>\n",
       "    <tr style=\"text-align: right;\">\n",
       "      <th></th>\n",
       "      <th>es</th>\n",
       "      <th>nes</th>\n",
       "      <th>pval</th>\n",
       "      <th>sidak</th>\n",
       "      <th>fdr</th>\n",
       "      <th>geneset_size</th>\n",
       "      <th>leading_edge</th>\n",
       "    </tr>\n",
       "    <tr>\n",
       "      <th>Term</th>\n",
       "      <th></th>\n",
       "      <th></th>\n",
       "      <th></th>\n",
       "      <th></th>\n",
       "      <th></th>\n",
       "      <th></th>\n",
       "      <th></th>\n",
       "    </tr>\n",
       "  </thead>\n",
       "  <tbody>\n",
       "    <tr>\n",
       "      <th>Mitochondrial dynamics</th>\n",
       "      <td>-0.481325</td>\n",
       "      <td>-2.422445</td>\n",
       "      <td>0.015416</td>\n",
       "      <td>0.030595</td>\n",
       "      <td>0.030833</td>\n",
       "      <td>28</td>\n",
       "      <td>JCP2022_807239,JCP2022_803667,JCP2022_800823,J...</td>\n",
       "    </tr>\n",
       "    <tr>\n",
       "      <th>Mitochondrial transport</th>\n",
       "      <td>-0.537558</td>\n",
       "      <td>-1.418637</td>\n",
       "      <td>0.156005</td>\n",
       "      <td>0.287672</td>\n",
       "      <td>0.156005</td>\n",
       "      <td>11</td>\n",
       "      <td>JCP2022_803667,JCP2022_807239,JCP2022_805963</td>\n",
       "    </tr>\n",
       "  </tbody>\n",
       "</table>\n",
       "</div>"
      ],
      "text/plain": [
       "                               es       nes      pval     sidak       fdr  \\\n",
       "Term                                                                        \n",
       "Mitochondrial dynamics  -0.481325 -2.422445  0.015416  0.030595  0.030833   \n",
       "Mitochondrial transport -0.537558 -1.418637  0.156005  0.287672  0.156005   \n",
       "\n",
       "                         geneset_size  \\\n",
       "Term                                    \n",
       "Mitochondrial dynamics             28   \n",
       "Mitochondrial transport            11   \n",
       "\n",
       "                                                              leading_edge  \n",
       "Term                                                                        \n",
       "Mitochondrial dynamics   JCP2022_807239,JCP2022_803667,JCP2022_800823,J...  \n",
       "Mitochondrial transport       JCP2022_803667,JCP2022_807239,JCP2022_805963  "
      ]
     },
     "execution_count": 12,
     "metadata": {},
     "output_type": "execute_result"
    }
   ],
   "source": []
  },
  {
   "cell_type": "code",
   "execution_count": 13,
   "id": "c0339177",
   "metadata": {
    "hidden": true
   },
   "outputs": [],
   "source": [
    "# agg_dict"
   ]
  },
  {
   "cell_type": "code",
   "execution_count": 5,
   "id": "6474246a",
   "metadata": {
    "hidden": true
   },
   "outputs": [
    {
     "name": "stdout",
     "output_type": "stream",
     "text": [
      "| Term        |        es |      nes |      pval |     sidak |       fdr |   geneset_size |\n",
      "|:------------|----------:|---------:|----------:|----------:|----------:|---------------:|\n",
      "| Table3genes | -0.481325 | -2.42245 | 0.0154165 | 0.0305952 | 0.0308329 |             28 |\n",
      "| Transport   | -0.537558 | -1.41864 | 0.156005  | 0.287672  | 0.156005  |             11 |\n"
     ]
    }
   ],
   "source": [
    "print(result_table3set[['es','nes','pval','sidak','fdr','geneset_size']].to_markdown(index=True))"
   ]
  },
  {
   "cell_type": "code",
   "execution_count": null,
   "id": "fd03e23a",
   "metadata": {
    "hidden": true
   },
   "outputs": [],
   "source": []
  },
  {
   "cell_type": "code",
   "execution_count": 10,
   "id": "f179fff6",
   "metadata": {
    "hidden": true
   },
   "outputs": [
    {
     "data": {
      "text/plain": [
       "'/home/jupyter-mhaghigh@broadinst-ee45a/bucket/projects/2016_08_01_RadialMitochondriaDistribution_donna/'"
      ]
     },
     "execution_count": 10,
     "metadata": {},
     "output_type": "execute_result"
    }
   ],
   "source": [
    "mito_project_root_dir"
   ]
  },
  {
   "cell_type": "markdown",
   "id": "0edda7cf-53fc-4c36-9991-80d05110a822",
   "metadata": {
    "tags": []
   },
   "source": [
    "## SZ related genes according to \"Rare coding variants in ten genes confer substantial risk for schizophrenia\" nature paper"
   ]
  },
  {
   "cell_type": "code",
   "execution_count": 46,
   "id": "de9fa58c-79c0-45f1-a000-419662401394",
   "metadata": {},
   "outputs": [
    {
     "name": "stdout",
     "output_type": "stream",
     "text": [
      "##  jump_orf\n",
      "{'SZ genes': ['GRIN2A', 'GRIA3', 'CUL1', 'XPO7', 'SP4'], 'DD/ID genes': ['PMEPA1'], 'Misc genes': []}\n",
      "| Term        |       es |      nes |     pval |    sidak |      fdr |   geneset_size |\n",
      "|:------------|---------:|---------:|---------:|---------:|---------:|---------------:|\n",
      "| SZ genes    | 0.631113 | 1.04136  | 0.297711 | 0.50679  | 0.391194 |              5 |\n",
      "| DD/ID genes | 0.608748 | 0.857453 | 0.391194 | 0.629356 | 0.391194 |              2 |\n"
     ]
    },
    {
     "data": {
      "image/png": "[encoded data removed]",
      "text/plain": [
       "<Figure size 500x100 with 1 Axes>"
      ]
     },
     "metadata": {},
     "output_type": "display_data"
    },
    {
     "name": "stdout",
     "output_type": "stream",
     "text": [
      "##  jump_crispr\n",
      "{'SZ genes': ['CUL1', 'GRIA3', 'GRIN2A', 'TRIO', 'HERC1', 'CACNA1G', 'SP4'], 'DD/ID genes': ['ASH1L', 'STAG1'], 'Misc genes': ['AKAP11', 'CACNA1A']}\n",
      "| Term        |        es |       nes |      pval |    sidak |      fdr |   geneset_size |\n",
      "|:------------|----------:|----------:|----------:|---------:|---------:|---------------:|\n",
      "| Misc genes  | -0.774414 | -1.68418  | 0.0921469 | 0.25175  | 0.276441 |              2 |\n",
      "| DD/ID genes |  0.597601 |  1.11434  | 0.265135  | 0.603154 | 0.397703 |              2 |\n",
      "| SZ genes    |  0.454436 |  0.519399 | 0.603483  | 0.937657 | 0.603483 |              6 |\n"
     ]
    },
    {
     "data": {
      "image/png": "[encoded data removed]",
      "text/plain": [
       "<Figure size 500x100 with 1 Axes>"
      ]
     },
     "metadata": {},
     "output_type": "display_data"
    }
   ],
   "source": [
    "fName='d_slope'\n",
    "write_res_path=mito_project_root_dir+'workspace/results/virtual_screen/'\n",
    "\n",
    "\n",
    "cell_count_filter_enabled=True\n",
    "orth_filter_enabled=False\n",
    "\n",
    "# ------------------------------\n",
    "\n",
    "SZ_genes_Daly=['CACNA1G', 'GRIN2A', 'GRIA3', 'TRIO', 'SP4', 'RB1CC1' , 'SETD1A','XPO7','CUL1','HERC1']\n",
    "DD_genes_Daly=['STAG1', 'ASH1L', 'ZMYM2', 'KDM6B', 'SRRM2', 'HIST1H1E',\\\n",
    "              'PMEPA1']\n",
    "misc_genes=['CACNA1A','AKAP11','SETD1A']\n",
    "\n",
    "\n",
    "# key_sample_id_col='Metadata_broad_sample'\n",
    "\n",
    "plt.close('all')\n",
    "for dataset in ['jump_orf','jump_crispr']:\n",
    "\n",
    "    key_col=datasets_info_dict[dataset]['key_col'];\n",
    "#     key_sample_id_col=datasets_info_dict[dataset]['key_sample_id_col'];\n",
    "    key_sample_id_col =datasets_info_dict[dataset]['key_sample_id_col'];\n",
    "\n",
    "    \n",
    "    res_df_jumporf0 = pd.read_csv(write_res_path+dataset+'_results_pattern_aug_070624.csv')\n",
    "    res_df_jumporf0 = res_df_jumporf0[~(res_df_jumporf0[key_col].isnull())& ~(res_df_jumporf0[fName].isnull())].reset_index(drop=True)\n",
    "#     res_df_jumporf = res_df_jumporf0.groupby(key_col).median(numeric_only=True).reset_index()\n",
    "\n",
    "    # Define the aggregation dictionary\n",
    "    agg_dict = {col: 'median' if pd.api.types.is_numeric_dtype(res_df_jumporf0[col]) else\\\n",
    "                'first' for col in res_df_jumporf0.columns if col != key_sample_id_col}\n",
    "\n",
    "    # Group by key_sample_id_col and aggregate\n",
    "    res_df_jumporf = res_df_jumporf0.groupby(key_sample_id_col).agg(agg_dict).reset_index()\n",
    "\n",
    "\n",
    "    library_Daly={};library_Daly_symbols={};\n",
    "    gls_names=['SZ genes','DD/ID genes','Misc genes']\n",
    "    for gls_name, gls in zip(gls_names,[SZ_genes_Daly,DD_genes_Daly,misc_genes]):\n",
    "        library_Daly[gls_name]=list(set(res_df_jumporf.loc[res_df_jumporf[key_col].isin(gls),\\\n",
    "                                                key_sample_id_col].unique().tolist()))\n",
    "        library_Daly_symbols[gls_name]=list(set(res_df_jumporf.loc[res_df_jumporf[key_col].isin(gls),\\\n",
    "                                                key_col].unique().tolist()))\n",
    "        \n",
    "    \n",
    "    print('## ',dataset)\n",
    "    print(library_Daly_symbols)\n",
    "\n",
    "    # print(res_df_jumporf.shape)\n",
    "    if cell_count_filter_enabled:\n",
    "        res_df_jumporf=res_df_jumporf[res_df_jumporf['Count_Cells_avg']>res_df_jumporf['Count_Cells_avg'].quantile(.1)].\\\n",
    "        reset_index(drop=True)\n",
    "\n",
    "    if orth_filter_enabled:\n",
    "        res_df_jumporf=res_df_jumporf[res_df_jumporf['p_orth_std']>orth_bh_corrected_critical_dict[dataset]].\\\n",
    "        reset_index(drop=True)\n",
    "    # print(res_df_jumporf.shape)\n",
    "\n",
    "\n",
    "    sig_df=res_df_jumporf[[key_sample_id_col,fName]].\\\n",
    "    rename(columns={key_sample_id_col:0,fName:1}).\\\n",
    "                sort_values(by=1).reset_index(drop=True)\n",
    "\n",
    "    \n",
    "    result_Daly = blitz.gsea(sig_df, library_Daly,min_size=1, seed=1)\n",
    "    \n",
    "    print(result_Daly[['es','nes','pval','sidak','fdr','geneset_size']].to_markdown(index=True))\n",
    "    \n",
    "    fig_table = top_table_custom(sig_df, library_Daly, result_Daly,set_label=\"Gene Set\", n=2)\n",
    "    # # fig_table.savefig(dataset+\"_top_table.png\", bbox_inches='tight')\n",
    "    plt.show()\n",
    "    # result_Daly\n",
    "\n",
    "        "
   ]
  },
  {
   "cell_type": "code",
   "execution_count": null,
   "id": "04b4f83c-96b7-49be-b3fd-4aace8d564c8",
   "metadata": {},
   "outputs": [],
   "source": []
  },
  {
   "cell_type": "markdown",
   "id": "b6a66766",
   "metadata": {
    "heading_collapsed": true
   },
   "source": [
    "## Rakesh Categories - LINCS"
   ]
  },
  {
   "cell_type": "markdown",
   "id": "f7849989",
   "metadata": {
    "heading_collapsed": true
   },
   "source": [
    "## Experiment our list towards Rakesh categories on LINCS set"
   ]
  },
  {
   "cell_type": "code",
   "execution_count": 81,
   "id": "1290b617",
   "metadata": {
    "hidden": true
   },
   "outputs": [
    {
     "name": "stdout",
     "output_type": "stream",
     "text": [
      "- All antipsychotics 9  out of  13  exists in LINCS set.\n",
      "- Atypical Antipsychotics 6  out of  8  exists in LINCS set.\n",
      "- Typical antipsychotics 3  out of  6  exists in LINCS set.\n",
      "- Mood stabilizers 2  out of  4  exists in LINCS set.\n",
      "- Antidepressants 5  out of  8  exists in LINCS set.\n",
      "- All psychotropics 18  out of  34  exists in LINCS set.\n",
      "- HDAC inhibitor 0  out of  10  exists in LINCS set.\n",
      "- Wnt Modulators 1  out of  13  exists in LINCS set.\n",
      "- Hormones 6  out of  15  exists in LINCS set.\n",
      "- ER stressors 0  out of  4  exists in LINCS set.\n",
      "- Mitochondrial Stressors 1  out of  8  exists in LINCS set.\n",
      "- Calcium channel blockers 2  out of  4  exists in LINCS set.\n"
     ]
    },
    {
     "name": "stderr",
     "output_type": "stream",
     "text": [
      "/home/jupyter-mhaghigh@broadinst-ee45a/.conda/envs/gan/lib/python3.9/site-packages/openpyxl/worksheet/_reader.py:329: UserWarning: Unknown extension is not supported and will be removed\n",
      "  warn(msg)\n"
     ]
    },
    {
     "data": {
      "image/png": "[encoded data removed]",
      "text/plain": [
       "<Figure size 500x400 with 1 Axes>"
      ]
     },
     "metadata": {},
     "output_type": "display_data"
    }
   ],
   "source": [
    "### set params\n",
    "\n",
    "target_feat=\"d_slope\"\n",
    "\n",
    "\n",
    "dataset='lincs'\n",
    "\n",
    "cell_count_filter_enabled=False\n",
    "orth_filter_enabled=False\n",
    "\n",
    "## compound selection strategies\n",
    "# 1. keeping all doses\n",
    "\n",
    "\n",
    "# 2. keep just the dose with maximum phenotype strength\n",
    "\n",
    "\n",
    "res_df_lincs = pd.read_csv(write_res_path+dataset+'_results_pattern_aug_070624.csv')\n",
    "# res_df_lincs['t_target_pattern_signed']=np.sign(res_df_lincs['t_slope'])*res_df_lincs['t_target_pattern']\n",
    "# res_df_lincs[target_feat+'_abs']=res_df_lincs[target_feat].abs()\n",
    "\n",
    "res_df_lincs=res_df_lincs[~(res_df_lincs[target_feat].isnull()) & ~(res_df_lincs['Metadata_pert_name'].isnull())].reset_index(drop=True)\n",
    "\n",
    "res_df_lincs[target_feat+'_abs']=res_df_lincs[target_feat].abs()\n",
    "\n",
    "drug_list_rakesh0=pd.read_excel(mito_project_root_dir+\"workspace/metadata/CompoundClusters08202104.xlsx\")\n",
    "\n",
    "\n",
    "\n",
    "                    # 'lincs':{'key_col':'Metadata_pert_name',\\\n",
    "                            # 'key_col_ref_set':'Metadata_pert_id_dose'},\\\n",
    "\n",
    "if cell_count_filter_enabled:\n",
    "    res_df_lincs=res_df_lincs[res_df_lincs['Count_Cells_avg']>res_df_lincs['Count_Cells_avg'].quantile(.1)].\\\n",
    "    reset_index(drop=True)\n",
    "if orth_filter_enabled:\n",
    "    res_df_lincs=res_df_lincs[res_df_lincs['p_orth_std']>orth_bh_corrected_critical_dict[dataset]].\\\n",
    "    reset_index(drop=True)\n",
    "\n",
    "    \n",
    "lincs_prt_names=set(res_df_lincs['Metadata_pert_name'].str.lower().unique())\n",
    "res_df_lincs['Metadata_pert_name_lowercase']=res_df_lincs['Metadata_pert_name'].str.lower()\n",
    "\n",
    "if 1:\n",
    "    abs_max_indices=res_df_lincs.groupby(['Metadata_pert_id'])[target_feat+'_abs'].idxmax().values\n",
    "    abs_max_indices=res_df_lincs.groupby(['Metadata_pert_name_lowercase'])[target_feat+'_abs'].idxmax().values\n",
    "    res_df_lincs = res_df_lincs.loc[abs_max_indices].reset_index(drop=True)\n",
    "\n",
    "\n",
    "rakesh_cats=drug_list_rakesh0.columns.tolist()\n",
    "# ap_table=pd.DataFrame(index=rakesh_cats,columns=['AP','AP-abs','Baseline-AP'])\n",
    "\n",
    "key_col_ref_set='Metadata_pert_name_lowercase'\n",
    "key_col_ref_set='Metadata_pert_id'\n",
    "# key_col_ref_set='Metadata_pert_id_dose'\n",
    "\n",
    "\n",
    "lib_rakesh={}\n",
    "for r in rakesh_cats:\n",
    "    overlap_drugs=set(drug_list_rakesh0[r].str.lower().unique()) & lincs_prt_names\n",
    "    overlap_drugs={x for x in overlap_drugs if x==x}\n",
    "    if len(overlap_drugs)>0:\n",
    "#         lib_rakesh[r]=list(overlap_drugs)\n",
    "        ## if adding all doses\n",
    "#         pert_id_dose_ls=res_df_lincs2.loc[res_df_lincs2['Metadata_pert_name_lowercase'].isin(overlap_drugs),'Metadata_pert_name_lowercase'].tolist()\n",
    "        pert_id_dose_ls=res_df_lincs.loc[res_df_lincs['Metadata_pert_name_lowercase'].isin(overlap_drugs),\\\n",
    "                                         key_col_ref_set].unique().tolist()\n",
    "        if len(pert_id_dose_ls)>1:\n",
    "            lib_rakesh[r]=list(pert_id_dose_ls)\n",
    "        \n",
    "    print('-',r, len(overlap_drugs),' out of ',len(set(drug_list_rakesh0[r].str.lower().unique())), ' exists in LINCS set.')\n",
    "####################################\n",
    "\n",
    "\n",
    "sig_df_lincs=res_df_lincs[[key_col_ref_set,target_feat]].\\\n",
    "rename(columns={key_col_ref_set:0,target_feat:1}).\\\n",
    "            sort_values(by=1).reset_index(drop=True)\n",
    "\n",
    "\n",
    "# sig_df_lincs=sig_df_lincs.groupby([0]).mean().reset_index()\n",
    "result_rakesh_enrich = blitz.gsea(sig_df_lincs, lib_rakesh,min_size=5, seed=1)\n",
    "plt.close('all')\n",
    "####################################\n",
    "fig_table = top_table_custom(sig_df_lincs, lib_rakesh, result_rakesh_enrich,set_label=\"Drug Set\", n=result_rakesh_enrich.shape[0])\n",
    "plt.show()\n",
    "# fig_table.savefig(\"ES_rakesh_new.png\", bbox_inches='tight')"
   ]
  },
  {
   "cell_type": "code",
   "execution_count": 80,
   "id": "0f5f6f47-1beb-4a36-9f60-14f1671c87d6",
   "metadata": {},
   "outputs": [
    {
     "data": {
      "text/html": [
       "<div>\n",
       "<style scoped>\n",
       "    .dataframe tbody tr th:only-of-type {\n",
       "        vertical-align: middle;\n",
       "    }\n",
       "\n",
       "    .dataframe tbody tr th {\n",
       "        vertical-align: top;\n",
       "    }\n",
       "\n",
       "    .dataframe thead th {\n",
       "        text-align: right;\n",
       "    }\n",
       "</style>\n",
       "<table border=\"1\" class=\"dataframe\">\n",
       "  <thead>\n",
       "    <tr style=\"text-align: right;\">\n",
       "      <th></th>\n",
       "      <th>es</th>\n",
       "      <th>nes</th>\n",
       "      <th>pval</th>\n",
       "      <th>sidak</th>\n",
       "      <th>fdr</th>\n",
       "      <th>geneset_size</th>\n",
       "      <th>leading_edge</th>\n",
       "    </tr>\n",
       "    <tr>\n",
       "      <th>Term</th>\n",
       "      <th></th>\n",
       "      <th></th>\n",
       "      <th></th>\n",
       "      <th></th>\n",
       "      <th></th>\n",
       "      <th></th>\n",
       "      <th></th>\n",
       "    </tr>\n",
       "  </thead>\n",
       "  <tbody>\n",
       "    <tr>\n",
       "      <th>Antidepressants</th>\n",
       "      <td>-0.660590</td>\n",
       "      <td>-1.220380</td>\n",
       "      <td>0.222321</td>\n",
       "      <td>0.778791</td>\n",
       "      <td>0.961189</td>\n",
       "      <td>5</td>\n",
       "      <td>BRD-K70464547,BRD-K53737926</td>\n",
       "    </tr>\n",
       "    <tr>\n",
       "      <th>Typical antipsychotics</th>\n",
       "      <td>-0.384561</td>\n",
       "      <td>-0.367009</td>\n",
       "      <td>0.713612</td>\n",
       "      <td>0.999448</td>\n",
       "      <td>0.961189</td>\n",
       "      <td>3</td>\n",
       "      <td>BRD-K89732114</td>\n",
       "    </tr>\n",
       "    <tr>\n",
       "      <th>Hormones</th>\n",
       "      <td>0.331704</td>\n",
       "      <td>0.243840</td>\n",
       "      <td>0.807355</td>\n",
       "      <td>0.999949</td>\n",
       "      <td>0.961189</td>\n",
       "      <td>6</td>\n",
       "      <td>BRD-A18917088</td>\n",
       "    </tr>\n",
       "    <tr>\n",
       "      <th>All antipsychotics</th>\n",
       "      <td>-0.264294</td>\n",
       "      <td>-0.230724</td>\n",
       "      <td>0.817529</td>\n",
       "      <td>0.999963</td>\n",
       "      <td>0.961189</td>\n",
       "      <td>9</td>\n",
       "      <td>BRD-K29582115,BRD-K53857191,BRD-K89732114</td>\n",
       "    </tr>\n",
       "    <tr>\n",
       "      <th>Atypical Antipsychotics</th>\n",
       "      <td>-0.245307</td>\n",
       "      <td>-0.064502</td>\n",
       "      <td>0.948570</td>\n",
       "      <td>1.000000</td>\n",
       "      <td>0.961189</td>\n",
       "      <td>6</td>\n",
       "      <td>BRD-K70358946,BRD-K29582115,BRD-K53857191,BRD-...</td>\n",
       "    </tr>\n",
       "    <tr>\n",
       "      <th>All psychotropics</th>\n",
       "      <td>-0.296622</td>\n",
       "      <td>-0.048661</td>\n",
       "      <td>0.961189</td>\n",
       "      <td>1.000000</td>\n",
       "      <td>0.961189</td>\n",
       "      <td>18</td>\n",
       "      <td>BRD-K29582115,BRD-K53857191,BRD-K70464547,BRD-...</td>\n",
       "    </tr>\n",
       "  </tbody>\n",
       "</table>\n",
       "</div>"
      ],
      "text/plain": [
       "                               es       nes      pval     sidak       fdr  \\\n",
       "Term                                                                        \n",
       "Antidepressants         -0.660590 -1.220380  0.222321  0.778791  0.961189   \n",
       "Typical antipsychotics  -0.384561 -0.367009  0.713612  0.999448  0.961189   \n",
       "Hormones                 0.331704  0.243840  0.807355  0.999949  0.961189   \n",
       "All antipsychotics      -0.264294 -0.230724  0.817529  0.999963  0.961189   \n",
       "Atypical Antipsychotics -0.245307 -0.064502  0.948570  1.000000  0.961189   \n",
       "All psychotropics       -0.296622 -0.048661  0.961189  1.000000  0.961189   \n",
       "\n",
       "                         geneset_size  \\\n",
       "Term                                    \n",
       "Antidepressants                     5   \n",
       "Typical antipsychotics              3   \n",
       "Hormones                            6   \n",
       "All antipsychotics                  9   \n",
       "Atypical Antipsychotics             6   \n",
       "All psychotropics                  18   \n",
       "\n",
       "                                                              leading_edge  \n",
       "Term                                                                        \n",
       "Antidepressants                                BRD-K70464547,BRD-K53737926  \n",
       "Typical antipsychotics                                       BRD-K89732114  \n",
       "Hormones                                                     BRD-A18917088  \n",
       "All antipsychotics               BRD-K29582115,BRD-K53857191,BRD-K89732114  \n",
       "Atypical Antipsychotics  BRD-K70358946,BRD-K29582115,BRD-K53857191,BRD-...  \n",
       "All psychotropics        BRD-K29582115,BRD-K53857191,BRD-K70464547,BRD-...  "
      ]
     },
     "execution_count": 80,
     "metadata": {},
     "output_type": "execute_result"
    }
   ],
   "source": [
    "result_rakesh_enrich"
   ]
  },
  {
   "cell_type": "code",
   "execution_count": 66,
   "id": "253f32ba-bab6-4057-a6e4-723db3365ecd",
   "metadata": {},
   "outputs": [
    {
     "data": {
      "text/plain": [
       "dict_keys(['All antipsychotics', 'Atypical Antipsychotics', 'Typical antipsychotics', 'Mood stabilizers', 'Antidepressants', 'All psychotropics', 'Hormones', 'Calcium channel blockers'])"
      ]
     },
     "execution_count": 66,
     "metadata": {},
     "output_type": "execute_result"
    }
   ],
   "source": [
    "lib_rakesh.keys()"
   ]
  },
  {
   "cell_type": "code",
   "execution_count": 36,
   "id": "9e045a35",
   "metadata": {
    "hidden": true
   },
   "outputs": [],
   "source": [
    "# sig_df_lincs.groupby([0]).mean().reset_index()\n",
    "# res_df_lincs.groupby('Metadata_pert_name_lowercase').size().sort_values()"
   ]
  },
  {
   "cell_type": "code",
   "execution_count": 37,
   "id": "bb277dc0",
   "metadata": {
    "hidden": true
   },
   "outputs": [],
   "source": [
    "# sig_df_lincs.groupby([0]).size().sort_values()\n",
    "# sig_df_lincs"
   ]
  },
  {
   "cell_type": "code",
   "execution_count": 129,
   "id": "470d0313",
   "metadata": {
    "hidden": true
   },
   "outputs": [
    {
     "name": "stdout",
     "output_type": "stream",
     "text": [
      "| Term                     |        es |       nes |     pval |      fdr |   drugset_size |\n",
      "|:-------------------------|----------:|----------:|---------:|---------:|---------------:|\n",
      "| Antidepressants          | -0.66059  | -1.61572  | 0.106154 | 0.849233 |              5 |\n",
      "| Calcium channel blockers |  0.781547 |  1.15148  | 0.249537 | 0.998147 |              2 |\n",
      "| All psychotropics        | -0.296622 | -0.450306 | 0.65249  | 1        |             18 |\n",
      "| Hormones                 |  0.331704 |  0.288184 | 0.773206 | 1        |              6 |\n",
      "| Mood stabilizers         |  0.554875 |  0.262434 | 0.792987 | 1        |              2 |\n",
      "| All antipsychotics       | -0.264294 | -0        | 1        | 1        |              9 |\n",
      "| Atypical Antipsychotics  | -0.245307 | -0        | 1        | 1        |              6 |\n",
      "| Typical antipsychotics   | -0.384561 | -0        | 1        | 1        |              3 |\n"
     ]
    }
   ],
   "source": [
    "print(result_rakesh_enrich.rename(columns={'geneset_size':'drugset_size'})[['es','nes','pval','fdr','drugset_size']].to_markdown(index=True))"
   ]
  },
  {
   "cell_type": "code",
   "execution_count": 162,
   "id": "73974ca1",
   "metadata": {
    "hidden": true
   },
   "outputs": [
    {
     "data": {
      "text/plain": [
       "Index(['es', 'nes', 'pval', 'sidak', 'fdr', 'geneset_size', 'leading_edge'], dtype='object')"
      ]
     },
     "execution_count": 162,
     "metadata": {},
     "output_type": "execute_result"
    }
   ],
   "source": [
    "result_rakesh_enrich.columns"
   ]
  },
  {
   "cell_type": "code",
   "execution_count": 67,
   "id": "cb63e368",
   "metadata": {
    "hidden": true
   },
   "outputs": [],
   "source": [
    "fig_table = top_table_custom(sig_df_lincs, lib_rakesh, result_rakesh_enrich, n=8)\n",
    "fig_table.savefig(\"ES_rakesh.png\", bbox_inches='tight')"
   ]
  },
  {
   "cell_type": "code",
   "execution_count": 10,
   "id": "ff45be32",
   "metadata": {
    "hidden": true
   },
   "outputs": [],
   "source": [
    "# result_rakesh_enrich = blitz.gsea(sig_df_lincs, lib_rakesh)\n",
    "\n",
    "# # fig = blitz.plot.running_sum(sig_df_lincs, \"Table3genes\", lib_rakesh, result=result_rakesh_enrich, compact=False)\n",
    "# # fig.savefig(\"ES_rakesh1.png\", bbox_inches='tight')\n",
    "\n",
    "# # fig_compact = blitz.plot.running_sum(sig_df_lincs, \"Table3genes\", lib_rakesh, result=result_rakesh_enrich, compact=True)\n",
    "# # fig_compact.savefig(\"ES_rakesh2.png\", bbox_inches='tight')\n",
    "\n",
    "# fig_table = blitz.plot.top_table(sig_df_lincs, lib_rakesh, result_rakesh_enrich, n=5)\n",
    "# fig_table.savefig(\"ES_rakesh_max.png\", bbox_inches='tight')\n",
    "\n",
    "fig_table = top_table_custom(sig_df_lincs, lib_rakesh, result_rakesh_enrich, n=5, seed=1)\n",
    "fig_table.savefig(\"ES_rakesh_max2.png\", bbox_inches='tight')\n"
   ]
  },
  {
   "cell_type": "code",
   "execution_count": 28,
   "id": "c118704b",
   "metadata": {
    "hidden": true
   },
   "outputs": [],
   "source": [
    "for r in lib_rakesh.keys():\n",
    "    fig = blitz.plot.running_sum(sig_df_lincs, r, lib_rakesh, result=result_rakesh_enrich, compact=False)\n",
    "    fig.savefig(\"ES_rakesh_\"+r+\".png\", bbox_inches='tight')"
   ]
  },
  {
   "cell_type": "code",
   "execution_count": 148,
   "id": "86417e97",
   "metadata": {
    "hidden": true
   },
   "outputs": [
    {
     "name": "stdout",
     "output_type": "stream",
     "text": [
      "| Term                    |        es |       nes |     pval |    sidak |      fdr |   drugset_size | leading_edge                                                                                                                                                                                                           |\n",
      "|:------------------------|----------:|----------:|---------:|---------:|---------:|---------------:|:-----------------------------------------------------------------------------------------------------------------------------------------------------------------------------------------------------------------------|\n",
      "| Hormones                |  0.517187 |  0.765063 | 0.444234 | 0.946977 | 0.785823 |              6 | dehydroepiandrosterone,prednisone,estradiol                                                                                                                                                                            |\n",
      "| All psychotropics       | -0.150685 | -0.677357 | 0.49818  | 0.968177 | 0.785823 |             18 | imipramine,carbamazepine,quetiapine,fluoxetine,aripiprazole,fluphenazine,clomipramine,melatonin,clozapine,rolipram,risperidone,amitriptyline,sertraline,olanzapine,lamotrigine,ziprasidone,haloperidol,trifluoperazine |\n",
      "| Antidepressants         | -0.361287 | -0.555047 | 0.578863 | 0.986753 | 0.785823 |              5 | imipramine,amitriptyline,sertraline                                                                                                                                                                                    |\n",
      "| Atypical Antipsychotics |  0.462047 |  0.483616 | 0.628659 | 0.992939 | 0.785823 |              6 | ziprasidone,clozapine,aripiprazole                                                                                                                                                                                     |\n",
      "| All antipsychotics      |  0.234584 |  0        | 1        | 1        | 1        |              9 | fluphenazine,ziprasidone,clozapine,aripiprazole                                                                                                                                                                        |\n"
     ]
    }
   ],
   "source": [
    "print(result_rakesh_enrich.rename(columns={'geneset_size':'drugset_size'}).to_markdown(index=True))"
   ]
  },
  {
   "cell_type": "code",
   "execution_count": 8,
   "id": "4f76bd0f",
   "metadata": {
    "hidden": true
   },
   "outputs": [
    {
     "ename": "NameError",
     "evalue": "name 'result_rakesh_enrich' is not defined",
     "output_type": "error",
     "traceback": [
      "\u001b[0;31m---------------------------------------------------------------------------\u001b[0m",
      "\u001b[0;31mNameError\u001b[0m                                 Traceback (most recent call last)",
      "\u001b[0;32m/tmp/ipykernel_27706/3410797988.py\u001b[0m in \u001b[0;36m<module>\u001b[0;34m\u001b[0m\n\u001b[0;32m----> 1\u001b[0;31m \u001b[0mresult_rakesh_enrich\u001b[0m\u001b[0;34m\u001b[0m\u001b[0;34m\u001b[0m\u001b[0m\n\u001b[0m",
      "\u001b[0;31mNameError\u001b[0m: name 'result_rakesh_enrich' is not defined"
     ]
    }
   ],
   "source": [
    "result_rakesh_enrich"
   ]
  },
  {
   "cell_type": "code",
   "execution_count": 72,
   "id": "02f2a2c7",
   "metadata": {
    "hidden": true
   },
   "outputs": [],
   "source": [
    "# res_df_lincs[res_df_lincs['Metadata_pert_name_lowercase']=='sertraline']"
   ]
  },
  {
   "cell_type": "code",
   "execution_count": 29,
   "id": "91a1a16c",
   "metadata": {
    "hidden": true
   },
   "outputs": [],
   "source": [
    "# res_df_lincs['Metadata_moa'].shape,\n",
    "# res_df_lincs['Metadata_moa'].unique()"
   ]
  },
  {
   "cell_type": "code",
   "execution_count": 91,
   "id": "a2b0aaa1",
   "metadata": {
    "hidden": true
   },
   "outputs": [],
   "source": []
  },
  {
   "cell_type": "code",
   "execution_count": null,
   "id": "053ccc06",
   "metadata": {
    "hidden": true
   },
   "outputs": [],
   "source": []
  },
  {
   "cell_type": "code",
   "execution_count": 21,
   "id": "24fa986d",
   "metadata": {
    "hidden": true
   },
   "outputs": [],
   "source": [
    "# res_df_lincs_nonnan_moa=res_df_lincs[~res_df_lincs['Metadata_moa'].isnull()].reset_index(drop=True)"
   ]
  },
  {
   "cell_type": "code",
   "execution_count": 20,
   "id": "ecad6ce2",
   "metadata": {
    "hidden": true
   },
   "outputs": [],
   "source": [
    "# res_df_lincs_nonnan_moa.loc[res_df_lincs_nonnan_moa['Metadata_moa'].str.contains('norepinephrine reuptake inhibitor'),'Metadata_moa'].unique()"
   ]
  },
  {
   "cell_type": "markdown",
   "id": "535916ea",
   "metadata": {},
   "source": [
    "## Enrichement of MOA classes - new pattern"
   ]
  },
  {
   "cell_type": "code",
   "execution_count": 26,
   "id": "33fa9a34",
   "metadata": {
    "scrolled": true,
    "tags": []
   },
   "outputs": [
    {
     "name": "stderr",
     "output_type": "stream",
     "text": [
      "/tmp/ipykernel_52913/2801621333.py:69: UserWarning: This pattern is interpreted as a regular expression, and has match groups. To actually get the groups, use str.extract.\n",
      "  pert_id_dose_ls=res_df_lincs_nonnan_moa.loc[res_df_lincs_nonnan_moa['Metadata_moa'].str.contains(r),\\\n"
     ]
    },
    {
     "data": {
      "image/png": "[encoded data removed]",
      "text/plain": [
       "<Figure size 500x800 with 1 Axes>"
      ]
     },
     "metadata": {},
     "output_type": "display_data"
    },
    {
     "name": "stdout",
     "output_type": "stream",
     "text": [
      "lincs  has  488  MOA categories!  259  have min size more than  10\n",
      "16 / 259  categories are enriched!\n",
      "Index(['glucocorticoid receptor agonist', 'mtor inhibitor', 'pi3k inhibitor',\n",
      "       'vitamin d receptor agonist', 'kit inhibitor',\n",
      "       'acetylcholine receptor antagonist', 'akt inhibitor', 'egfr inhibitor',\n",
      "       'ppar receptor agonist', 'pdgfr tyrosine kinase receptor inhibitor',\n",
      "       'glutamate receptor antagonist', 'raf inhibitor',\n",
      "       'serotonin receptor agonist', 'cck receptor antagonist',\n",
      "       'nucleoside reverse transcriptase inhibitor', 'cdk inhibitor'],\n",
      "      dtype='object', name='Term')\n"
     ]
    },
    {
     "name": "stderr",
     "output_type": "stream",
     "text": [
      "/tmp/ipykernel_52913/2801621333.py:69: UserWarning: This pattern is interpreted as a regular expression, and has match groups. To actually get the groups, use str.extract.\n",
      "  pert_id_dose_ls=res_df_lincs_nonnan_moa.loc[res_df_lincs_nonnan_moa['Metadata_moa'].str.contains(r),\\\n"
     ]
    },
    {
     "data": {
      "image/png": "[encoded data removed]",
      "text/plain": [
       "<Figure size 500x350 with 1 Axes>"
      ]
     },
     "metadata": {},
     "output_type": "display_data"
    },
    {
     "name": "stdout",
     "output_type": "stream",
     "text": [
      "CDRP  has  534  MOA categories!  33  have min size more than  10\n",
      "7 / 33  categories are enriched!\n",
      "Index(['dopamine receptor antagonist', 'adrenergic receptor antagonist',\n",
      "       'serotonin receptor antagonist', 'adrenergic receptor agonist',\n",
      "       'glucocorticoid receptor agonist', 'egfr inhibitor',\n",
      "       'calcium channel blocker'],\n",
      "      dtype='object', name='Term')\n"
     ]
    }
   ],
   "source": [
    "target_feat=\"d_slope\"\n",
    "# target_feat=\"t_target_pattern_signed\"\n",
    "\n",
    "write_res_path=mito_project_root_dir+'workspace/results/virtual_screen/'\n",
    "\n",
    "cell_count_filter_enabled=True\n",
    "orth_filter_enabled=False\n",
    "\n",
    "\n",
    "for dataset in ['lincs','CDRP']:#['lincs','CDRP']:\n",
    "    key_col=datasets_info_dict[dataset]['key_col'];\n",
    "    key_col_ref_set= datasets_info_dict[dataset]['key_col_ref_set']\n",
    "    \n",
    "    # res_df_lincs = pd.read_csv(write_res_path+dataset+'_results_pattern_2.csv')\n",
    "#     res_df_lincs = pd.read_csv(write_res_path+dataset+'_results_pattern_aug.csv')\n",
    "    res_df_lincs = pd.read_csv(write_res_path+dataset+'_results_pattern_aug_070624.csv')\n",
    "    res_df_lincs['t_target_pattern_signed']=np.sign(res_df_lincs['t_slope'])*res_df_lincs['t_target_pattern']\n",
    "    \n",
    "    res_df_lincs['Metadata_moa']=res_df_lincs['Metadata_moa'].str.lower()\n",
    "\n",
    "    if cell_count_filter_enabled:\n",
    "        res_df_lincs=res_df_lincs[res_df_lincs['Count_Cells_avg']>res_df_lincs['Count_Cells_avg'].quantile(.1)].\\\n",
    "        reset_index(drop=True)\n",
    "\n",
    "    if orth_filter_enabled:\n",
    "        res_df_lincs=res_df_lincs[res_df_lincs['p_orth_std']>orth_bh_corrected_critical_dict[dataset]].\\\n",
    "        reset_index(drop=True)\n",
    "\n",
    "\n",
    "    res_df_lincs[target_feat+'_abs']=res_df_lincs[target_feat].abs()\n",
    "    res_df_lincs['t_orth_abs']=res_df_lincs[\"t_orth\"].abs()\n",
    "\n",
    "    res_df_lincs=res_df_lincs[~(res_df_lincs[target_feat].isnull()) & ~(res_df_lincs[key_col].isnull())].reset_index(drop=True)\n",
    "    res_df_lincs[key_col+'_lowercase']=res_df_lincs[key_col].str.lower()\n",
    "\n",
    "    if 0:\n",
    "        abs_max_indices=res_df_lincs.groupby([key_col+'_lowercase'])[target_feat+'_abs'].idxmax().values\n",
    "#         abs_max_indices=res_df_lincs.groupby([key_col+'_lowercase'])[\"t_orth_abs\"].idxmin().values\n",
    "        # abs_max_indices=res_df_lincs.groupby([key_col+'_lowercase'])[\"p_orth_std\"].idxmax().values    \n",
    "        res_df_lincs = res_df_lincs.loc[abs_max_indices].reset_index(drop=True)\n",
    "\n",
    "    if 0:\n",
    "        res_df_lincs_nonnan_moa=res_df_lincs[~res_df_lincs['Metadata_moa'].isnull()].reset_index(drop=True)\n",
    "    else:\n",
    "        res_df_lincs_nonnan_moa=res_df_lincs.copy();\n",
    "        res_df_lincs_nonnan_moa['Metadata_moa']=res_df_lincs_nonnan_moa['Metadata_moa'].fillna('nan')\n",
    "\n",
    "    # res_df_lincs_nonnan_moa = res_df_lincs[~res_df_lincs['Metadata_moa'].isnull()].reset_index(drop=True)\n",
    "\n",
    "    # key_col_ref_set='Metadata_pert_name_lowercase'\n",
    "#     key_col_ref_set='Metadata_pert_id_dose'\n",
    "\n",
    "    sig_df_lincs_2=res_df_lincs_nonnan_moa[[key_col_ref_set,target_feat]].\\\n",
    "    rename(columns={key_col_ref_set:0,target_feat:1}).\\\n",
    "                sort_values(by=1).reset_index(drop=True)\n",
    "\n",
    "    unq_moas0=[]\n",
    "    all_moas=res_df_lincs['Metadata_moa'].unique().tolist()\n",
    "\n",
    "    for mi in all_moas:\n",
    "        if mi==mi:\n",
    "            unq_moas0 = unq_moas0 + mi.split('|')\n",
    "\n",
    "    unq_moas=list(set(unq_moas0))#[50:60]\n",
    "\n",
    "\n",
    "    lib_moa={}\n",
    "    for r in unq_moas:\n",
    "        pert_id_dose_ls=res_df_lincs_nonnan_moa.loc[res_df_lincs_nonnan_moa['Metadata_moa'].str.contains(r),\\\n",
    "                                                key_col_ref_set].unique().tolist()\n",
    "        if len(pert_id_dose_ls)>1:\n",
    "            lib_moa[r]=list(pert_id_dose_ls)\n",
    "    \n",
    "    min_n_compounds_per_cat=10\n",
    "    result_moa_enrich = blitz.gsea(sig_df_lincs_2, lib_moa,min_size=min_n_compounds_per_cat, seed=1)\n",
    "    enriched_df=result_moa_enrich[result_moa_enrich['fdr']<0.05]\n",
    "    \n",
    "    if 1:\n",
    "        fig_table = top_table_custom(sig_df_lincs_2, lib_moa, result_moa_enrich,set_label=\"MOA\", n=enriched_df.shape[0])\n",
    "        plt.show()\n",
    "    \n",
    "    print(dataset, ' has ', str(len(unq_moas)),' MOA categories! ',str(result_moa_enrich.shape[0]),\\\n",
    "         ' have min size more than ', min_n_compounds_per_cat)\n",
    "    print(enriched_df.shape[0],'/',str(result_moa_enrich.shape[0]),' categories are enriched!')\n",
    "    print(enriched_df.index)\n",
    "    \n",
    "    "
   ]
  },
  {
   "cell_type": "code",
   "execution_count": 19,
   "id": "e786ec2e",
   "metadata": {},
   "outputs": [],
   "source": [
    "# print(result_moa_enrich.rename(columns={'geneset_size':\"moa_set_size\"})[['es','nes','pval','fdr','moa_set_size']].to_markdown(index=True))"
   ]
  },
  {
   "cell_type": "code",
   "execution_count": 39,
   "id": "05d13a67-d609-4cfa-ae28-883ffe0ac371",
   "metadata": {},
   "outputs": [],
   "source": [
    "# res_df_lincs['d_slope']"
   ]
  },
  {
   "cell_type": "code",
   "execution_count": 40,
   "id": "973be77a",
   "metadata": {},
   "outputs": [],
   "source": [
    "# res_df_lincs_nonnan_moa.groupby('Metadata_moa').mean().sort_values(by='slope_abs').loc['mTOR inhibitor']"
   ]
  },
  {
   "cell_type": "code",
   "execution_count": 18,
   "id": "5198644d",
   "metadata": {},
   "outputs": [],
   "source": [
    "# fig_table = top_table_custom(sig_df_lincs_2, lib_moa, result_moa_enrich,set_label=\"MOA\", n=20)\n",
    "# plt.show()\n",
    "# fig_table.savefig(\"ES_moa_slope_top10.png\", bbox_inches='tight')"
   ]
  },
  {
   "cell_type": "code",
   "execution_count": 58,
   "id": "277b69d7",
   "metadata": {},
   "outputs": [],
   "source": [
    "# result_moa_enrich = blitz.gsea(sig_df_lincs_2, lib_moa,min_size=2)"
   ]
  },
  {
   "cell_type": "code",
   "execution_count": null,
   "id": "eace1a76",
   "metadata": {
    "hidden": true
   },
   "outputs": [],
   "source": []
  },
  {
   "cell_type": "code",
   "execution_count": null,
   "id": "da6f2bb6",
   "metadata": {
    "hidden": true
   },
   "outputs": [],
   "source": []
  }
 ],
 "metadata": {
  "kernelspec": {
   "display_name": "gan",
   "language": "python",
   "name": "gan"
  },
  "language_info": {
   "codemirror_mode": {
    "name": "ipython",
    "version": 3
   },
   "file_extension": ".py",
   "mimetype": "text/x-python",
   "name": "python",
   "nbconvert_exporter": "python",
   "pygments_lexer": "ipython3",
   "version": "3.9.15"
  },
  "latex_envs": {
   "LaTeX_envs_menu_present": true,
   "autoclose": false,
   "autocomplete": true,
   "bibliofile": "biblio.bib",
   "cite_by": "apalike",
   "current_citInitial": 1,
   "eqLabelWithNumbers": true,
   "eqNumInitial": 1,
   "hotkeys": {
    "equation": "Ctrl-E",
    "itemize": "Ctrl-I"
   },
   "labels_anchors": false,
   "latex_user_defs": false,
   "report_style_numbering": false,
   "user_envs_cfg": false
  },
  "varInspector": {
   "cols": {
    "lenName": 16,
    "lenType": 16,
    "lenVar": 40
   },
   "kernels_config": {
    "python": {
     "delete_cmd_postfix": "",
     "delete_cmd_prefix": "del ",
     "library": "var_list.py",
     "varRefreshCmd": "print(var_dic_list())"
    },
    "r": {
     "delete_cmd_postfix": ") ",
     "delete_cmd_prefix": "rm(",
     "library": "var_list.r",
     "varRefreshCmd": "cat(var_dic_list()) "
    }
   },
   "types_to_exclude": [
    "module",
    "function",
    "builtin_function_or_method",
    "instance",
    "_Feature"
   ],
   "window_display": false
  }
 },
 "nbformat": 4,
 "nbformat_minor": 5
}
